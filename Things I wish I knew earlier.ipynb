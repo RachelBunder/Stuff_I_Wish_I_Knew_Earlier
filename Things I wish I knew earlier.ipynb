{
 "cells": [
  {
   "cell_type": "markdown",
   "metadata": {
    "slideshow": {
     "slide_type": "slide"
    }
   },
   "source": [
    "# PyLadies\n",
    "\n",
    "<img src=\"pyLadiesCake.jpeg\"> "
   ]
  },
  {
   "cell_type": "markdown",
   "metadata": {
    "slideshow": {
     "slide_type": "slide"
    }
   },
   "source": [
    "# Things that I wish I knew earlier"
   ]
  },
  {
   "cell_type": "markdown",
   "metadata": {
    "slideshow": {
     "slide_type": "slide"
    }
   },
   "source": [
    "# Me, 5 years ago\n",
    "\n",
    "* Had just completed my Comp Sci/Maths degree\n",
    "* I have used C, C++, Fortran, Lisp, Turbo Pascal, Prolog, Literate D...\n",
    "* How hard could python be?\n"
   ]
  },
  {
   "cell_type": "markdown",
   "metadata": {
    "slideshow": {
     "slide_type": "slide"
    }
   },
   "source": [
    "# Python isn't hard...\n"
   ]
  },
  {
   "cell_type": "markdown",
   "metadata": {
    "slideshow": {
     "slide_type": "fragment"
    }
   },
   "source": [
    "# ...but it is different"
   ]
  },
  {
   "cell_type": "markdown",
   "metadata": {
    "slideshow": {
     "slide_type": "slide"
    }
   },
   "source": [
    "# Don't use append"
   ]
  },
  {
   "cell_type": "code",
   "execution_count": 70,
   "metadata": {
    "collapsed": false,
    "slideshow": {
     "slide_type": "fragment"
    }
   },
   "outputs": [
    {
     "name": "stdout",
     "output_type": "stream",
     "text": [
      "100 loops, best of 3: 1.66 ms per loop\n",
      "1000 loops, best of 3: 1.25 ms per loop\n"
     ]
    }
   ],
   "source": [
    "import random\n",
    "\n",
    "def append_list():\n",
    "    myList = []\n",
    "    for _ in xrange(10000):\n",
    "        myList.append(random.random())\n",
    "\n",
    "def comprehension_list():\n",
    "    myList = [random.random() for _ in xrange(10000)]\n",
    "  \n",
    "\n",
    "\n",
    "%timeit append_list()\n",
    "%timeit comprehension_list()\n"
   ]
  },
  {
   "cell_type": "markdown",
   "metadata": {
    "slideshow": {
     "slide_type": "subslide"
    }
   },
   "source": [
    "# More tricks with comprehension"
   ]
  },
  {
   "cell_type": "markdown",
   "metadata": {
    "slideshow": {
     "slide_type": "subslide"
    }
   },
   "source": [
    "## If statements "
   ]
  },
  {
   "cell_type": "code",
   "execution_count": 69,
   "metadata": {
    "collapsed": false,
    "slideshow": {
     "slide_type": "fragment"
    }
   },
   "outputs": [
    {
     "name": "stdout",
     "output_type": "stream",
     "text": [
      "100 loops, best of 3: 13.5 ms per loop\n",
      "100 loops, best of 3: 13.2 ms per loop\n"
     ]
    }
   ],
   "source": [
    "\n",
    "import random\n",
    "import timeit\n",
    "\n",
    "def append_list():\n",
    "    myList = []\n",
    "    for i in xrange(10000):\n",
    "        if random.randint(0,99)%2 == 0:\n",
    "            myList.append(i)\n",
    "\n",
    "def comprehension_list():\n",
    "    myList = [i for i in xrange(10000) if random.randint(0,99)%2 == 0]\n",
    "    \n",
    "%timeit append_list()\n",
    "%timeit comprehension_list()"
   ]
  },
  {
   "cell_type": "markdown",
   "metadata": {
    "collapsed": true,
    "slideshow": {
     "slide_type": "subslide"
    }
   },
   "source": [
    "## Dictionaries"
   ]
  },
  {
   "cell_type": "code",
   "execution_count": 79,
   "metadata": {
    "collapsed": false,
    "slideshow": {
     "slide_type": "fragment"
    }
   },
   "outputs": [
    {
     "name": "stdout",
     "output_type": "stream",
     "text": [
      "1000 loops, best of 3: 1.55 ms per loop\n",
      "1000 loops, best of 3: 1.45 ms per loop\n"
     ]
    }
   ],
   "source": [
    "import random\n",
    "import timeit\n",
    "\n",
    "def append_dict():\n",
    "    myDict = {}\n",
    "    for i in xrange(10000):\n",
    "        myDict[i] = random.random()\n",
    "\n",
    "\n",
    "def comprehension_dict():\n",
    "    myDict = { i: random.random() for i in xrange(10000)  }\n",
    "    \n",
    "%timeit append_dict()\n",
    "%timeit comprehension_dict()"
   ]
  },
  {
   "cell_type": "markdown",
   "metadata": {
    "slideshow": {
     "slide_type": "slide"
    }
   },
   "source": [
    "# _"
   ]
  },
  {
   "cell_type": "markdown",
   "metadata": {
    "slideshow": {
     "slide_type": "fragment"
    }
   },
   "source": [
    "1. To hold the result of the last executed statement in an interactive interpreter session. This precedent was set by the standard CPython interpreter, and other interpreters have followed suit\n",
    "2. For translation lookup in i18n (imported from the corresponding C conventions, I believe)\n",
    "3. As a general purpose \"throwaway\" variable name to indicate that part of a function result is being deliberately ignored\n",
    "\n",
    "(ArtOfWarfareArtOfWarfare, Stack Overflow (http://stackoverflow.com/questions/5893163/what-is-the-purpose-of-the-single-underscore-variable-in-python)"
   ]
  },
  {
   "cell_type": "code",
   "execution_count": 68,
   "metadata": {
    "collapsed": true,
    "slideshow": {
     "slide_type": "subslide"
    }
   },
   "outputs": [],
   "source": [
    "def append_list():\n",
    "    myList = []\n",
    "    for _ in xrange(10000):\n",
    "        myList.append(random.random())\n"
   ]
  },
  {
   "cell_type": "markdown",
   "metadata": {
    "slideshow": {
     "slide_type": "slide"
    }
   },
   "source": [
    "# With"
   ]
  },
  {
   "cell_type": "code",
   "execution_count": 23,
   "metadata": {
    "collapsed": false,
    "slideshow": {
     "slide_type": "fragment"
    }
   },
   "outputs": [],
   "source": [
    "def read_file():\n",
    "    iFile = open(\"stuff.txt\", 'r')\n",
    "    \n",
    "    #Do stuff with iFile\n",
    "    \n",
    "    iFile.close()\n",
    "    \n",
    "    #Do other stuff\n",
    "    \n",
    "def better_read_file():\n",
    "    with open(\"stuff.txt\") as iFile:\n",
    "        #Do stuff with iFile\n",
    "        \n",
    "    #Do other stuff"
   ]
  },
  {
   "cell_type": "markdown",
   "metadata": {
    "slideshow": {
     "slide_type": "slide"
    }
   },
   "source": [
    "# There is a package for everything"
   ]
  },
  {
   "cell_type": "code",
   "execution_count": 66,
   "metadata": {
    "collapsed": false,
    "slideshow": {
     "slide_type": "fragment"
    }
   },
   "outputs": [
    {
     "name": "stdout",
     "output_type": "stream",
     "text": [
      "10 loops, best of 3: 73.2 ms per loop\n",
      "10 loops, best of 3: 45.2 ms per loop\n",
      "10 loops, best of 3: 47 ms per loop\n"
     ]
    }
   ],
   "source": [
    "def read_file():\n",
    "    data1 = []\n",
    "    data2 = []\n",
    "    \n",
    "    with open(\"stuff.txt\", 'r') as iFile:\n",
    "    \n",
    "        for line in iFile:\n",
    "            lineSplit = line.split('\\t')\n",
    "            data1.append(lineSplit[0])\n",
    "            data2.append(lineSplit[1])\n",
    "        \n",
    "    \n",
    "    \n",
    "import csv\n",
    "def better_read_file():\n",
    "    with open(\"stuff.txt\", mode='r') as iFile:\n",
    "        iReader = csv.reader(iFile, delimiter='\\t')\n",
    "        data1 = [line[0] for line in iReader ]\n",
    "        data2 = [line[1] for line in iReader ]\n",
    "    \n",
    "    \n",
    "import pandas\n",
    "def even_better_read_file():\n",
    "    stuffDF = pandas.read_csv(\"stuff.txt\", sep = \"\\t\")\n",
    "\n",
    "        \n",
    "%timeit read_file()\n",
    "%timeit better_read_file()\n",
    "%timeit even_better_read_file()\n",
    "\n",
    "    \n",
    "    "
   ]
  },
  {
   "cell_type": "markdown",
   "metadata": {
    "slideshow": {
     "slide_type": "slide"
    }
   },
   "source": [
    "# Everything is an object"
   ]
  },
  {
   "cell_type": "code",
   "execution_count": 75,
   "metadata": {
    "collapsed": false,
    "slideshow": {
     "slide_type": "fragment"
    }
   },
   "outputs": [
    {
     "name": "stdout",
     "output_type": "stream",
     "text": [
      "1 1\n"
     ]
    }
   ],
   "source": [
    "def rounding(num):\n",
    "    return int(num + 0.5)\n",
    "\n",
    "\n",
    "def fuzzy_rounding(num):\n",
    "    return int(num + random.random())\n",
    "\n",
    "\n",
    "def rounding_function(num, roundingFunction):\n",
    "    return  roundingFunction(num) \n",
    "\n",
    "\n",
    "print rounding_function(.5, rounding ), \n",
    "print rounding_function(.5, fuzzy_rounding)"
   ]
  },
  {
   "cell_type": "markdown",
   "metadata": {
    "slideshow": {
     "slide_type": "slide"
    }
   },
   "source": [
    "## Look up once, save time"
   ]
  },
  {
   "cell_type": "code",
   "execution_count": 63,
   "metadata": {
    "collapsed": false,
    "slideshow": {
     "slide_type": "fragment"
    }
   },
   "outputs": [
    {
     "name": "stdout",
     "output_type": "stream",
     "text": [
      "100 loops, best of 3: 1.58 ms per loop\n",
      "1000 loops, best of 3: 1.09 ms per loop\n",
      "1000 loops, best of 3: 824 µs per loop\n",
      "1000 loops, best of 3: 645 µs per loop\n"
     ]
    }
   ],
   "source": [
    "import random\n",
    "import timeit\n",
    "\n",
    "def append_list():\n",
    "    myList = []\n",
    "    for _ in xrange(10000):\n",
    "        myList.append(random.random())\n",
    "\n",
    "        \n",
    "def comprehension_list():\n",
    "    myList = [random.random() for _ in xrange(10000)]\n",
    "  \n",
    "\n",
    "def append_no_attribute_look_up():\n",
    "    myList = []\n",
    "    \n",
    "    appendFunc = myList.append\n",
    "    rand = random.random\n",
    "    \n",
    "    for _ in xrange(10000):\n",
    "        appendFunc(rand())\n",
    "\n",
    "def comprehension_list_no_attribute_look_up():\n",
    "    rand = random.random\n",
    "    myList = [rand() for _ in xrange(10000)]\n",
    "  \n",
    "\n",
    "\n",
    "\n",
    "%timeit append_list()\n",
    "%timeit comprehension_list()\n",
    "%timeit append_no_attribute_look_up()\n",
    "%timeit comprehension_list_no_attribute_look_up()\n"
   ]
  },
  {
   "cell_type": "markdown",
   "metadata": {
    "slideshow": {
     "slide_type": "slide"
    }
   },
   "source": [
    "# Generator Functions"
   ]
  },
  {
   "cell_type": "code",
   "execution_count": 77,
   "metadata": {
    "collapsed": false,
    "slideshow": {
     "slide_type": "fragment"
    }
   },
   "outputs": [
    {
     "name": "stdout",
     "output_type": "stream",
     "text": [
      "1 2 3"
     ]
    },
    {
     "ename": "StopIteration",
     "evalue": "",
     "output_type": "error",
     "traceback": [
      "\u001b[0;31m---------------------------------------------------------------------------\u001b[0m",
      "\u001b[0;31mStopIteration\u001b[0m                             Traceback (most recent call last)",
      "\u001b[0;32m<ipython-input-77-ca438568f683>\u001b[0m in \u001b[0;36m<module>\u001b[0;34m()\u001b[0m\n\u001b[1;32m      6\u001b[0m \u001b[0mgenerator\u001b[0m \u001b[0;34m=\u001b[0m \u001b[0msimple_generator\u001b[0m\u001b[0;34m(\u001b[0m\u001b[0;34m)\u001b[0m\u001b[0;34m\u001b[0m\u001b[0m\n\u001b[1;32m      7\u001b[0m \u001b[0;34m\u001b[0m\u001b[0m\n\u001b[0;32m----> 8\u001b[0;31m \u001b[0;32mprint\u001b[0m \u001b[0mnext\u001b[0m\u001b[0;34m(\u001b[0m\u001b[0mgenerator\u001b[0m\u001b[0;34m)\u001b[0m\u001b[0;34m,\u001b[0m \u001b[0mnext\u001b[0m\u001b[0;34m(\u001b[0m\u001b[0mgenerator\u001b[0m\u001b[0;34m)\u001b[0m\u001b[0;34m,\u001b[0m \u001b[0mnext\u001b[0m\u001b[0;34m(\u001b[0m\u001b[0mgenerator\u001b[0m\u001b[0;34m)\u001b[0m\u001b[0;34m,\u001b[0m \u001b[0mnext\u001b[0m\u001b[0;34m(\u001b[0m\u001b[0mgenerator\u001b[0m\u001b[0;34m)\u001b[0m\u001b[0;34m\u001b[0m\u001b[0m\n\u001b[0m",
      "\u001b[0;31mStopIteration\u001b[0m: "
     ]
    }
   ],
   "source": [
    "def simple_generator():\n",
    "    yield 1\n",
    "    yield 2\n",
    "    yield 3\n",
    "    \n",
    "generator = simple_generator()\n",
    "\n",
    "print next(generator), next(generator), next(generator), next(generator)"
   ]
  },
  {
   "cell_type": "code",
   "execution_count": 62,
   "metadata": {
    "collapsed": false,
    "slideshow": {
     "slide_type": "fragment"
    }
   },
   "outputs": [
    {
     "name": "stdout",
     "output_type": "stream",
     "text": [
      "1\n",
      "2\n",
      "3\n"
     ]
    }
   ],
   "source": [
    "for value in simple_generator():\n",
    "    print value"
   ]
  },
  {
   "cell_type": "markdown",
   "metadata": {
    "slideshow": {
     "slide_type": "subslide"
    }
   },
   "source": [
    "## Infinite Generators"
   ]
  },
  {
   "cell_type": "code",
   "execution_count": 78,
   "metadata": {
    "collapsed": false,
    "slideshow": {
     "slide_type": "fragment"
    }
   },
   "outputs": [
    {
     "name": "stdout",
     "output_type": "stream",
     "text": [
      " 2 3 5 7 11 13\n"
     ]
    }
   ],
   "source": [
    "def get_primes(number):\n",
    "    while True:\n",
    "        if is_prime(number):\n",
    "            yield number\n",
    "        number += 1\n",
    "        \n",
    "        \n",
    "import math\n",
    "def is_prime(number):\n",
    "    if number > 1:\n",
    "        if number == 2:\n",
    "            return True\n",
    "        if number % 2 == 0:\n",
    "            return False\n",
    "        for current in range(3, int(math.sqrt(number) + 1), 2):\n",
    "            if number % current == 0: \n",
    "                return False\n",
    "        return True\n",
    "    return False\n",
    "\n",
    "p = get_primes(1)\n",
    "print next(p), next(p), next(p), next(p), next(p), next(p)"
   ]
  },
  {
   "cell_type": "markdown",
   "metadata": {
    "slideshow": {
     "slide_type": "fragment"
    }
   },
   "source": [
    "Thanks to Jeff Knup's blog for the generator functions examples (https://www.jeffknupp.com/blog/2013/04/07/improve-your-python-yield-and-generators-explained/)"
   ]
  },
  {
   "cell_type": "markdown",
   "metadata": {
    "slideshow": {
     "slide_type": "slide"
    }
   },
   "source": [
    "# Collections"
   ]
  },
  {
   "cell_type": "markdown",
   "metadata": {
    "slideshow": {
     "slide_type": "subslide"
    }
   },
   "source": [
    "## Named tuples"
   ]
  },
  {
   "cell_type": "code",
   "execution_count": 12,
   "metadata": {
    "collapsed": false,
    "slideshow": {
     "slide_type": "fragment"
    }
   },
   "outputs": [
    {
     "name": "stdout",
     "output_type": "stream",
     "text": [
      "<class '__main__.xy_Point'>\n",
      "1 2\n",
      "1 2\n"
     ]
    }
   ],
   "source": [
    "from collections import namedtuple\n",
    "\n",
    "Point = namedtuple('xy_Point', 'x y')\n",
    "\n",
    "p1 = Point(1, 2)\n",
    "\n",
    "\n",
    "print type(p1)\n",
    "\n",
    "print p1.x, p1.y\n",
    "print p1[0], p1[1]"
   ]
  },
  {
   "cell_type": "code",
   "execution_count": 13,
   "metadata": {
    "collapsed": false,
    "slideshow": {
     "slide_type": "fragment"
    }
   },
   "outputs": [
    {
     "ename": "AttributeError",
     "evalue": "can't set attribute",
     "output_type": "error",
     "traceback": [
      "\u001b[0;31m---------------------------------------------------------------------------\u001b[0m",
      "\u001b[0;31mAttributeError\u001b[0m                            Traceback (most recent call last)",
      "\u001b[0;32m<ipython-input-13-62348ba5c708>\u001b[0m in \u001b[0;36m<module>\u001b[0;34m()\u001b[0m\n\u001b[0;32m----> 1\u001b[0;31m \u001b[0mp1\u001b[0m\u001b[0;34m.\u001b[0m\u001b[0mx\u001b[0m \u001b[0;34m=\u001b[0m \u001b[0;36m5\u001b[0m\u001b[0;34m\u001b[0m\u001b[0m\n\u001b[0m",
      "\u001b[0;31mAttributeError\u001b[0m: can't set attribute"
     ]
    }
   ],
   "source": [
    "p1.x = 5"
   ]
  },
  {
   "cell_type": "code",
   "execution_count": null,
   "metadata": {
    "collapsed": true,
    "slideshow": {
     "slide_type": "fragment"
    }
   },
   "outputs": [],
   "source": [
    "class Fancy_Point(Point):\n",
    "    ..."
   ]
  },
  {
   "cell_type": "markdown",
   "metadata": {
    "slideshow": {
     "slide_type": "subslide"
    }
   },
   "source": [
    "## Deque"
   ]
  },
  {
   "cell_type": "code",
   "execution_count": 59,
   "metadata": {
    "collapsed": false,
    "slideshow": {
     "slide_type": "fragment"
    }
   },
   "outputs": [
    {
     "name": "stdout",
     "output_type": "stream",
     "text": [
      "1000 loops, best of 3: 2.15 ms per loop\n",
      "1000 loops, best of 3: 1.97 ms per loop\n",
      "1000 loops, best of 3: 1.24 ms per loop\n"
     ]
    }
   ],
   "source": [
    "import random\n",
    "from collections import deque\n",
    "\n",
    "def append_list():\n",
    "    myList = []\n",
    "    for _ in xrange(10000):\n",
    "        myList.append(random.random())\n",
    "        \n",
    "def append_deque():\n",
    "    myQueue = deque()\n",
    "    for _ in xrange(10000):\n",
    "        myQueue.append(random.random())\n",
    "\n",
    "def comprehension_list():\n",
    "    myList = [random.random() for _ in xrange(10000)]\n",
    "  \n",
    "\n",
    "\n",
    "%timeit append_list()\n",
    "%timeit append_deque()\n",
    "%timeit comprehension_list()"
   ]
  },
  {
   "cell_type": "code",
   "execution_count": 30,
   "metadata": {
    "collapsed": false,
    "slideshow": {
     "slide_type": "fragment"
    }
   },
   "outputs": [
    {
     "name": "stdout",
     "output_type": "stream",
     "text": [
      "100 loops, best of 3: 2.57 ms per loop\n",
      "100 loops, best of 3: 2.54 ms per loop\n"
     ]
    }
   ],
   "source": [
    "def pop_list(myList):\n",
    "    for _ in xrange(10000):\n",
    "        myList.pop()\n",
    "        \n",
    "def pop_deque(myDeque):\n",
    "    for _ in xrange(10000):\n",
    "        myDeque.pop()\n",
    "        \n",
    "%timeit pop_list([random.random() for _ in xrange(10000)])\n",
    "%timeit pop_deque([random.random() for _ in xrange(10000)])"
   ]
  },
  {
   "cell_type": "markdown",
   "metadata": {
    "slideshow": {
     "slide_type": "subslide"
    }
   },
   "source": [
    "## Counter"
   ]
  },
  {
   "cell_type": "code",
   "execution_count": 37,
   "metadata": {
    "collapsed": false,
    "slideshow": {
     "slide_type": "fragment"
    }
   },
   "outputs": [
    {
     "name": "stdout",
     "output_type": "stream",
     "text": [
      "Counter({'b': 3, 'a': 2, 'c': 1})\n"
     ]
    }
   ],
   "source": [
    "from collections import Counter\n",
    "\n",
    "c1 =  Counter(['a', 'b', 'c', 'a', 'b', 'b'])\n",
    "\n",
    "print c1"
   ]
  },
  {
   "cell_type": "code",
   "execution_count": 38,
   "metadata": {
    "collapsed": false,
    "slideshow": {
     "slide_type": "fragment"
    }
   },
   "outputs": [
    {
     "name": "stdout",
     "output_type": "stream",
     "text": [
      "Counter({'a': 3, 'b': 3, 'c': 2, 1: 1, 'e': 1, 5: 1, 3: 1, 'h': 1, 2: 1, 'l': 1, 'R': 1, 4: 1})\n"
     ]
    }
   ],
   "source": [
    "c1.update(\"Rachel\")\n",
    "c1.update([1,2,3,4,5])\n",
    "\n",
    "print c1"
   ]
  },
  {
   "cell_type": "code",
   "execution_count": 53,
   "metadata": {
    "collapsed": false,
    "slideshow": {
     "slide_type": "fragment"
    }
   },
   "outputs": [
    {
     "name": "stdout",
     "output_type": "stream",
     "text": [
      "1\n",
      "0\n"
     ]
    }
   ],
   "source": [
    "print c1['R']\n",
    "\n",
    "print c1['z']"
   ]
  },
  {
   "cell_type": "markdown",
   "metadata": {
    "slideshow": {
     "slide_type": "subslide"
    }
   },
   "source": [
    "## OrderedDict"
   ]
  },
  {
   "cell_type": "code",
   "execution_count": 39,
   "metadata": {
    "collapsed": false,
    "slideshow": {
     "slide_type": "fragment"
    }
   },
   "outputs": [
    {
     "name": "stdout",
     "output_type": "stream",
     "text": [
      "{'a': 10, -2: 'a', 'v': -2}\n",
      "OrderedDict([('a', 10), ('v', -2), (5, 'a')])\n"
     ]
    }
   ],
   "source": [
    "from collections import OrderedDict\n",
    "\n",
    "d1 = dict()\n",
    "d2 = OrderedDict()\n",
    "\n",
    "d1['a'] = 10; d2['a'] = 10\n",
    "d1['v'] = -2; d2['v'] = -2\n",
    "d1[-2] = 'a'; d2[5] = 'a'\n",
    "\n",
    "print d1\n",
    "print d2"
   ]
  },
  {
   "cell_type": "markdown",
   "metadata": {
    "slideshow": {
     "slide_type": "subslide"
    }
   },
   "source": [
    "## DefaultDict\n"
   ]
  },
  {
   "cell_type": "code",
   "execution_count": 50,
   "metadata": {
    "collapsed": false,
    "slideshow": {
     "slide_type": "fragment"
    }
   },
   "outputs": [
    {
     "name": "stdout",
     "output_type": "stream",
     "text": [
      "10\n",
      "0\n"
     ]
    }
   ],
   "source": [
    "from collections import defaultdict\n",
    "\n",
    "\n",
    "myDict = defaultdict(int)\n",
    "\n",
    "myDict[\"a\"] = 10\n",
    "\n",
    "print myDict[\"a\"]\n",
    "print myDict[\"b\"]\n"
   ]
  },
  {
   "cell_type": "code",
   "execution_count": 60,
   "metadata": {
    "collapsed": false,
    "slideshow": {
     "slide_type": "fragment"
    }
   },
   "outputs": [
    {
     "name": "stdout",
     "output_type": "stream",
     "text": [
      "HI!\n"
     ]
    }
   ],
   "source": [
    "def default_value():\n",
    "    return \"HI!\"\n",
    "\n",
    "myDict2 = defaultdict(default_value)\n",
    "\n",
    "print myDict2['b']\n"
   ]
  },
  {
   "cell_type": "code",
   "execution_count": 47,
   "metadata": {
    "collapsed": false,
    "slideshow": {
     "slide_type": "fragment"
    }
   },
   "outputs": [
    {
     "name": "stdout",
     "output_type": "stream",
     "text": [
      "6\n"
     ]
    }
   ],
   "source": [
    "myList = [1,2,3]\n",
    "myDict3 = defaultdict(lambda:sum(myList))\n",
    "\n",
    "print myDict3[\"a\"]\n",
    "\n"
   ]
  },
  {
   "cell_type": "code",
   "execution_count": 48,
   "metadata": {
    "collapsed": false
   },
   "outputs": [
    {
     "name": "stdout",
     "output_type": "stream",
     "text": [
      "9\n",
      "6\n"
     ]
    }
   ],
   "source": [
    "myList = [2,3,4]\n",
    "\n",
    "print myDict3[\"b\"]\n",
    "print myDict3[\"a\"]"
   ]
  },
  {
   "cell_type": "markdown",
   "metadata": {
    "slideshow": {
     "slide_type": "slide"
    }
   },
   "source": [
    "# Python Enhancement Proposals (PEP)"
   ]
  },
  {
   "cell_type": "markdown",
   "metadata": {
    "slideshow": {
     "slide_type": "fragment"
    }
   },
   "source": [
    "PEP 008: Python Style Guide\n",
    "\n",
    "PEP 202: List Comprehensions\n",
    "\n",
    "PEP 274: Dict Comprehensions\n",
    "\n",
    "PEP 343: The \"with\" Statement\n",
    "\n",
    "PEP 255: Simple Generators\n",
    "\n"
   ]
  },
  {
   "cell_type": "markdown",
   "metadata": {
    "slideshow": {
     "slide_type": "slide"
    }
   },
   "source": [
    "# Docstrings (PEP 0257)\n",
    "A docstring is a string literal that occurs as the first statement in a module, function, class, or method definition. Such a docstring becomes the __doc__ special attribute of that object."
   ]
  },
  {
   "cell_type": "code",
   "execution_count": 84,
   "metadata": {
    "collapsed": false,
    "slideshow": {
     "slide_type": "fragment"
    }
   },
   "outputs": [
    {
     "name": "stdout",
     "output_type": "stream",
     "text": [
      "This function doesn't do anything\n"
     ]
    }
   ],
   "source": [
    "def my_func():\n",
    "    '''This function doesn't do anything'''\n",
    "    \n",
    "print my_func.__doc__"
   ]
  },
  {
   "cell_type": "markdown",
   "metadata": {
    "collapsed": true,
    "slideshow": {
     "slide_type": "slide"
    }
   },
   "source": [
    "# IPython notebooks (Jupyter)"
   ]
  },
  {
   "cell_type": "markdown",
   "metadata": {
    "collapsed": true,
    "slideshow": {
     "slide_type": "slide"
    }
   },
   "source": [
    "# The End"
   ]
  }
 ],
 "metadata": {
  "celltoolbar": "Slideshow",
  "kernelspec": {
   "display_name": "Python 2",
   "language": "python",
   "name": "python2"
  },
  "language_info": {
   "codemirror_mode": {
    "name": "ipython",
    "version": 2
   },
   "file_extension": ".py",
   "mimetype": "text/x-python",
   "name": "python",
   "nbconvert_exporter": "python",
   "pygments_lexer": "ipython2",
   "version": "2.7.10"
  }
 },
 "nbformat": 4,
 "nbformat_minor": 0
}
